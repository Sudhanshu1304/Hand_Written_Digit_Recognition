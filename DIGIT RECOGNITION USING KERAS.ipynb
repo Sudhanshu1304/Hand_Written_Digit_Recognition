{
 "cells": [
  {
   "cell_type": "markdown",
   "metadata": {},
   "source": [
    "#        HANDWRITTEN DIGIT RECOGNITION \n",
    "\n",
    "#                                USING               \"ANN\""
   ]
  },
  {
   "cell_type": "markdown",
   "metadata": {},
   "source": [
    "# LIBRARIES \n",
    "\n",
    "\n",
    "We are going to do this task using the \"KERAS\" Library.\n",
    "\n",
    "The data given containes a \"20x20\" pixcal of the digits from 0 to 9.\n",
    "There are 500 data types for each digit.\n",
    "\n",
    "We are also going to use the DataSet from Matlab using the module \"loadmat\".\n",
    "\n"
   ]
  },
  {
   "cell_type": "code",
   "execution_count": 126,
   "metadata": {},
   "outputs": [],
   "source": [
    "import numpy as np\n",
    "import pandas as pd\n",
    "import matplotlib.pyplot as plt\n",
    "from scipy.io import loadmat\n",
    "import matplotlib.image as mpimg"
   ]
  },
  {
   "cell_type": "code",
   "execution_count": 127,
   "metadata": {},
   "outputs": [],
   "source": [
    "# Use loadmat to load matlab files\n",
    "mat=loadmat(\"D:/User/Desktop/ex3data1.mat\")\n",
    "x=mat[\"X\"]\n",
    "y=mat[\"y\"]"
   ]
  },
  {
   "cell_type": "code",
   "execution_count": 129,
   "metadata": {},
   "outputs": [
    {
     "name": "stdout",
     "output_type": "stream",
     "text": [
      "(5000, 400) (5000, 1)\n"
     ]
    }
   ],
   "source": [
    "# Length of the DataSet \n",
    "\n",
    "print(x.shape,y.shape)\n"
   ]
  },
  {
   "cell_type": "code",
   "execution_count": 131,
   "metadata": {},
   "outputs": [
    {
     "data": {
      "text/plain": [
       "(4000, 1)"
      ]
     },
     "execution_count": 131,
     "metadata": {},
     "output_type": "execute_result"
    }
   ],
   "source": [
    "y_train1.shape"
   ]
  },
  {
   "cell_type": "markdown",
   "metadata": {},
   "source": [
    "# EXAMINING THE DATA\n"
   ]
  },
  {
   "cell_type": "code",
   "execution_count": 4,
   "metadata": {},
   "outputs": [
    {
     "data": {
      "text/plain": [
       "array([[0., 0., 0., ..., 0., 0., 0.],\n",
       "       [0., 0., 0., ..., 0., 0., 0.],\n",
       "       [0., 0., 0., ..., 0., 0., 0.],\n",
       "       ...,\n",
       "       [0., 0., 0., ..., 0., 0., 0.],\n",
       "       [0., 0., 0., ..., 0., 0., 0.],\n",
       "       [0., 0., 0., ..., 0., 0., 0.]])"
      ]
     },
     "execution_count": 4,
     "metadata": {},
     "output_type": "execute_result"
    }
   ],
   "source": [
    "x"
   ]
  },
  {
   "cell_type": "code",
   "execution_count": 5,
   "metadata": {},
   "outputs": [
    {
     "data": {
      "text/plain": [
       "<matplotlib.image.AxesImage at 0x1f5422669c8>"
      ]
     },
     "execution_count": 5,
     "metadata": {},
     "output_type": "execute_result"
    },
    {
     "data": {
      "image/png": "[encoded data removed]",
      "text/plain": [
       "<Figure size 72x72 with 1 Axes>"
      ]
     },
     "metadata": {
      "needs_background": "light"
     },
     "output_type": "display_data"
    }
   ],
   "source": [
    "# VISUALIZATION OF THE X_DATA\n",
    "\n",
    "\n",
    "d1=x[0].reshape((20,20),order='F')\n",
    "fig = plt.figure(figsize=(1,1))\n",
    "plt.imshow(d1,cmap='hot')"
   ]
  },
  {
   "cell_type": "code",
   "execution_count": 6,
   "metadata": {},
   "outputs": [
    {
     "data": {
      "text/plain": [
       "array([10], dtype=uint8)"
      ]
     },
     "execution_count": 6,
     "metadata": {},
     "output_type": "execute_result"
    }
   ],
   "source": [
    "#Value of y for the same x value is:\n",
    "\n",
    "y[10]"
   ]
  },
  {
   "cell_type": "code",
   "execution_count": 7,
   "metadata": {},
   "outputs": [
    {
     "data": {
      "text/html": [
       "<div>\n",
       "<style scoped>\n",
       "    .dataframe tbody tr th:only-of-type {\n",
       "        vertical-align: middle;\n",
       "    }\n",
       "\n",
       "    .dataframe tbody tr th {\n",
       "        vertical-align: top;\n",
       "    }\n",
       "\n",
       "    .dataframe thead th {\n",
       "        text-align: right;\n",
       "    }\n",
       "</style>\n",
       "<table border=\"1\" class=\"dataframe\">\n",
       "  <thead>\n",
       "    <tr style=\"text-align: right;\">\n",
       "      <th></th>\n",
       "      <th>0</th>\n",
       "    </tr>\n",
       "  </thead>\n",
       "  <tbody>\n",
       "    <tr>\n",
       "      <td>0</td>\n",
       "      <td>0</td>\n",
       "    </tr>\n",
       "    <tr>\n",
       "      <td>1</td>\n",
       "      <td>0</td>\n",
       "    </tr>\n",
       "    <tr>\n",
       "      <td>2</td>\n",
       "      <td>0</td>\n",
       "    </tr>\n",
       "    <tr>\n",
       "      <td>3</td>\n",
       "      <td>0</td>\n",
       "    </tr>\n",
       "    <tr>\n",
       "      <td>4</td>\n",
       "      <td>0</td>\n",
       "    </tr>\n",
       "    <tr>\n",
       "      <td>...</td>\n",
       "      <td>...</td>\n",
       "    </tr>\n",
       "    <tr>\n",
       "      <td>4995</td>\n",
       "      <td>9</td>\n",
       "    </tr>\n",
       "    <tr>\n",
       "      <td>4996</td>\n",
       "      <td>9</td>\n",
       "    </tr>\n",
       "    <tr>\n",
       "      <td>4997</td>\n",
       "      <td>9</td>\n",
       "    </tr>\n",
       "    <tr>\n",
       "      <td>4998</td>\n",
       "      <td>9</td>\n",
       "    </tr>\n",
       "    <tr>\n",
       "      <td>4999</td>\n",
       "      <td>9</td>\n",
       "    </tr>\n",
       "  </tbody>\n",
       "</table>\n",
       "<p>5000 rows × 1 columns</p>\n",
       "</div>"
      ],
      "text/plain": [
       "      0\n",
       "0     0\n",
       "1     0\n",
       "2     0\n",
       "3     0\n",
       "4     0\n",
       "...  ..\n",
       "4995  9\n",
       "4996  9\n",
       "4997  9\n",
       "4998  9\n",
       "4999  9\n",
       "\n",
       "[5000 rows x 1 columns]"
      ]
     },
     "execution_count": 7,
     "metadata": {},
     "output_type": "execute_result"
    }
   ],
   "source": [
    "# There is a mistake in the data set that is 0 is represented s 10 in the y data set\n",
    "# So let's replace 10 with 0 in the data set.\n",
    "\n",
    "y=pd.DataFrame(y).replace(to_replace=[10],value=[0])\n",
    "y"
   ]
  },
  {
   "cell_type": "markdown",
   "metadata": {},
   "source": [
    "THE DATA LOOKS CORRECT .\n",
    "\n",
    "# NOTE:\n",
    "\n",
    "NOW BEFORE PUTTING THE DATA VALUES INTO THE CLASSIFIER WE WILL HAVE TO DIVIDE THE CLASS IN THE Y DATA IN THE BINARY DATA .BECAUSE THIS IS THE FORMAT REQUIRED FOR THE KERAS CLASSIFIER .\n",
    " "
   ]
  },
  {
   "cell_type": "code",
   "execution_count": 8,
   "metadata": {},
   "outputs": [
    {
     "name": "stderr",
     "output_type": "stream",
     "text": [
      "C:\\Users\\SUDHANSHU\\Anaconda3\\lib\\site-packages\\sklearn\\preprocessing\\_encoders.py:415: FutureWarning: The handling of integer data will change in version 0.22. Currently, the categories are determined based on the range [0, max(values)], while in the future they will be determined based on the unique values.\n",
      "If you want the future behaviour and silence this warning, you can specify \"categories='auto'\".\n",
      "In case you used a LabelEncoder before this OneHotEncoder to convert the categories to integers, then you can now use the OneHotEncoder directly.\n",
      "  warnings.warn(msg, FutureWarning)\n"
     ]
    }
   ],
   "source": [
    "from sklearn.preprocessing import OneHotEncoder\n",
    "ohe=OneHotEncoder()\n",
    "\n",
    "y=ohe.fit_transform(y).toarray()"
   ]
  },
  {
   "cell_type": "code",
   "execution_count": 9,
   "metadata": {},
   "outputs": [
    {
     "data": {
      "text/plain": [
       "array([[1., 0., 0., ..., 0., 0., 0.],\n",
       "       [1., 0., 0., ..., 0., 0., 0.],\n",
       "       [1., 0., 0., ..., 0., 0., 0.],\n",
       "       ...,\n",
       "       [0., 0., 0., ..., 0., 0., 1.],\n",
       "       [0., 0., 0., ..., 0., 0., 1.],\n",
       "       [0., 0., 0., ..., 0., 0., 1.]])"
      ]
     },
     "execution_count": 9,
     "metadata": {},
     "output_type": "execute_result"
    }
   ],
   "source": [
    "y"
   ]
  },
  {
   "cell_type": "code",
   "execution_count": 10,
   "metadata": {},
   "outputs": [
    {
     "data": {
      "text/html": [
       "<div>\n",
       "<style scoped>\n",
       "    .dataframe tbody tr th:only-of-type {\n",
       "        vertical-align: middle;\n",
       "    }\n",
       "\n",
       "    .dataframe tbody tr th {\n",
       "        vertical-align: top;\n",
       "    }\n",
       "\n",
       "    .dataframe thead th {\n",
       "        text-align: right;\n",
       "    }\n",
       "</style>\n",
       "<table border=\"1\" class=\"dataframe\">\n",
       "  <thead>\n",
       "    <tr style=\"text-align: right;\">\n",
       "      <th></th>\n",
       "      <th>0</th>\n",
       "      <th>1</th>\n",
       "      <th>2</th>\n",
       "      <th>3</th>\n",
       "      <th>4</th>\n",
       "      <th>5</th>\n",
       "      <th>6</th>\n",
       "      <th>7</th>\n",
       "      <th>8</th>\n",
       "      <th>9</th>\n",
       "    </tr>\n",
       "  </thead>\n",
       "  <tbody>\n",
       "    <tr>\n",
       "      <td>0</td>\n",
       "      <td>1.0</td>\n",
       "      <td>0.0</td>\n",
       "      <td>0.0</td>\n",
       "      <td>0.0</td>\n",
       "      <td>0.0</td>\n",
       "      <td>0.0</td>\n",
       "      <td>0.0</td>\n",
       "      <td>0.0</td>\n",
       "      <td>0.0</td>\n",
       "      <td>0.0</td>\n",
       "    </tr>\n",
       "    <tr>\n",
       "      <td>1</td>\n",
       "      <td>1.0</td>\n",
       "      <td>0.0</td>\n",
       "      <td>0.0</td>\n",
       "      <td>0.0</td>\n",
       "      <td>0.0</td>\n",
       "      <td>0.0</td>\n",
       "      <td>0.0</td>\n",
       "      <td>0.0</td>\n",
       "      <td>0.0</td>\n",
       "      <td>0.0</td>\n",
       "    </tr>\n",
       "    <tr>\n",
       "      <td>2</td>\n",
       "      <td>1.0</td>\n",
       "      <td>0.0</td>\n",
       "      <td>0.0</td>\n",
       "      <td>0.0</td>\n",
       "      <td>0.0</td>\n",
       "      <td>0.0</td>\n",
       "      <td>0.0</td>\n",
       "      <td>0.0</td>\n",
       "      <td>0.0</td>\n",
       "      <td>0.0</td>\n",
       "    </tr>\n",
       "    <tr>\n",
       "      <td>3</td>\n",
       "      <td>1.0</td>\n",
       "      <td>0.0</td>\n",
       "      <td>0.0</td>\n",
       "      <td>0.0</td>\n",
       "      <td>0.0</td>\n",
       "      <td>0.0</td>\n",
       "      <td>0.0</td>\n",
       "      <td>0.0</td>\n",
       "      <td>0.0</td>\n",
       "      <td>0.0</td>\n",
       "    </tr>\n",
       "    <tr>\n",
       "      <td>4</td>\n",
       "      <td>1.0</td>\n",
       "      <td>0.0</td>\n",
       "      <td>0.0</td>\n",
       "      <td>0.0</td>\n",
       "      <td>0.0</td>\n",
       "      <td>0.0</td>\n",
       "      <td>0.0</td>\n",
       "      <td>0.0</td>\n",
       "      <td>0.0</td>\n",
       "      <td>0.0</td>\n",
       "    </tr>\n",
       "    <tr>\n",
       "      <td>...</td>\n",
       "      <td>...</td>\n",
       "      <td>...</td>\n",
       "      <td>...</td>\n",
       "      <td>...</td>\n",
       "      <td>...</td>\n",
       "      <td>...</td>\n",
       "      <td>...</td>\n",
       "      <td>...</td>\n",
       "      <td>...</td>\n",
       "      <td>...</td>\n",
       "    </tr>\n",
       "    <tr>\n",
       "      <td>4995</td>\n",
       "      <td>0.0</td>\n",
       "      <td>0.0</td>\n",
       "      <td>0.0</td>\n",
       "      <td>0.0</td>\n",
       "      <td>0.0</td>\n",
       "      <td>0.0</td>\n",
       "      <td>0.0</td>\n",
       "      <td>0.0</td>\n",
       "      <td>0.0</td>\n",
       "      <td>1.0</td>\n",
       "    </tr>\n",
       "    <tr>\n",
       "      <td>4996</td>\n",
       "      <td>0.0</td>\n",
       "      <td>0.0</td>\n",
       "      <td>0.0</td>\n",
       "      <td>0.0</td>\n",
       "      <td>0.0</td>\n",
       "      <td>0.0</td>\n",
       "      <td>0.0</td>\n",
       "      <td>0.0</td>\n",
       "      <td>0.0</td>\n",
       "      <td>1.0</td>\n",
       "    </tr>\n",
       "    <tr>\n",
       "      <td>4997</td>\n",
       "      <td>0.0</td>\n",
       "      <td>0.0</td>\n",
       "      <td>0.0</td>\n",
       "      <td>0.0</td>\n",
       "      <td>0.0</td>\n",
       "      <td>0.0</td>\n",
       "      <td>0.0</td>\n",
       "      <td>0.0</td>\n",
       "      <td>0.0</td>\n",
       "      <td>1.0</td>\n",
       "    </tr>\n",
       "    <tr>\n",
       "      <td>4998</td>\n",
       "      <td>0.0</td>\n",
       "      <td>0.0</td>\n",
       "      <td>0.0</td>\n",
       "      <td>0.0</td>\n",
       "      <td>0.0</td>\n",
       "      <td>0.0</td>\n",
       "      <td>0.0</td>\n",
       "      <td>0.0</td>\n",
       "      <td>0.0</td>\n",
       "      <td>1.0</td>\n",
       "    </tr>\n",
       "    <tr>\n",
       "      <td>4999</td>\n",
       "      <td>0.0</td>\n",
       "      <td>0.0</td>\n",
       "      <td>0.0</td>\n",
       "      <td>0.0</td>\n",
       "      <td>0.0</td>\n",
       "      <td>0.0</td>\n",
       "      <td>0.0</td>\n",
       "      <td>0.0</td>\n",
       "      <td>0.0</td>\n",
       "      <td>1.0</td>\n",
       "    </tr>\n",
       "  </tbody>\n",
       "</table>\n",
       "<p>5000 rows × 10 columns</p>\n",
       "</div>"
      ],
      "text/plain": [
       "        0    1    2    3    4    5    6    7    8    9\n",
       "0     1.0  0.0  0.0  0.0  0.0  0.0  0.0  0.0  0.0  0.0\n",
       "1     1.0  0.0  0.0  0.0  0.0  0.0  0.0  0.0  0.0  0.0\n",
       "2     1.0  0.0  0.0  0.0  0.0  0.0  0.0  0.0  0.0  0.0\n",
       "3     1.0  0.0  0.0  0.0  0.0  0.0  0.0  0.0  0.0  0.0\n",
       "4     1.0  0.0  0.0  0.0  0.0  0.0  0.0  0.0  0.0  0.0\n",
       "...   ...  ...  ...  ...  ...  ...  ...  ...  ...  ...\n",
       "4995  0.0  0.0  0.0  0.0  0.0  0.0  0.0  0.0  0.0  1.0\n",
       "4996  0.0  0.0  0.0  0.0  0.0  0.0  0.0  0.0  0.0  1.0\n",
       "4997  0.0  0.0  0.0  0.0  0.0  0.0  0.0  0.0  0.0  1.0\n",
       "4998  0.0  0.0  0.0  0.0  0.0  0.0  0.0  0.0  0.0  1.0\n",
       "4999  0.0  0.0  0.0  0.0  0.0  0.0  0.0  0.0  0.0  1.0\n",
       "\n",
       "[5000 rows x 10 columns]"
      ]
     },
     "execution_count": 10,
     "metadata": {},
     "output_type": "execute_result"
    }
   ],
   "source": [
    "# Just to see the y_data which makes more sense\n",
    "\n",
    "pd.DataFrame(y)"
   ]
  },
  {
   "cell_type": "markdown",
   "metadata": {},
   "source": [
    "# SPLITING THE DATA"
   ]
  },
  {
   "cell_type": "code",
   "execution_count": 11,
   "metadata": {},
   "outputs": [],
   "source": [
    "from sklearn.model_selection import train_test_split\n",
    "x_train,x_test,y_train,y_test=train_test_split(x,y,test_size=0.2,random_state=1)"
   ]
  },
  {
   "cell_type": "code",
   "execution_count": 12,
   "metadata": {},
   "outputs": [
    {
     "name": "stderr",
     "output_type": "stream",
     "text": [
      "Using TensorFlow backend.\n"
     ]
    }
   ],
   "source": [
    "# IMPORTING THE LIBRARIES \n",
    "\n",
    "from keras.models import  Sequential\n",
    "from keras.layers import Dense\n",
    "import pandas as pd\n",
    "import numpy as np"
   ]
  },
  {
   "cell_type": "markdown",
   "metadata": {},
   "source": [
    "# ARTITECTURE OF THE NUERAL_NET\n",
    "\n",
    "\n",
    "WE HAVE THE \"400\" NEURON'S IN THE INPUT LAYER ,2 HIDDEN_LAYERS WITH (500,400) NUERONNS AND THE OUTPUT\n",
    "\n",
    "LAYER WITH 10 NUERONS SINCE THERE ARE 10 CLASSES TO BE CLASSIFIED.\n",
    "\n"
   ]
  },
  {
   "cell_type": "code",
   "execution_count": 114,
   "metadata": {},
   "outputs": [
    {
     "name": "stderr",
     "output_type": "stream",
     "text": [
      "C:\\Users\\SUDHANSHU\\Anaconda3\\lib\\site-packages\\ipykernel_launcher.py:5: UserWarning: Update your `Dense` call to the Keras 2 API: `Dense(activation=\"relu\", input_dim=400, units=500, kernel_initializer=\"uniform\")`\n",
      "  \"\"\"\n",
      "C:\\Users\\SUDHANSHU\\Anaconda3\\lib\\site-packages\\ipykernel_launcher.py:6: UserWarning: Update your `Dense` call to the Keras 2 API: `Dense(activation=\"relu\", units=400, kernel_initializer=\"uniform\")`\n",
      "  \n",
      "C:\\Users\\SUDHANSHU\\Anaconda3\\lib\\site-packages\\ipykernel_launcher.py:7: UserWarning: Update your `Dense` call to the Keras 2 API: `Dense(activation=\"softmax\", units=10, kernel_initializer=\"uniform\")`\n",
      "  import sys\n"
     ]
    }
   ],
   "source": [
    "# MAKING THE CLASSIFIER\n",
    "\n",
    "classifier=Sequential()\n",
    "\n",
    "classifier.add(Dense(output_dim=500,init='uniform',activation='relu',input_dim=400))\n",
    "classifier.add(Dense(output_dim=400,init='uniform',activation='relu'))\n",
    "classifier.add(Dense(output_dim=10,init='uniform',activation='softmax'))\n",
    "classifier.compile(optimizer='adam',loss='categorical_crossentropy',metrics=['accuracy'])"
   ]
  },
  {
   "cell_type": "markdown",
   "metadata": {},
   "source": [
    "# TRANING DATASET"
   ]
  },
  {
   "cell_type": "code",
   "execution_count": 115,
   "metadata": {},
   "outputs": [
    {
     "name": "stderr",
     "output_type": "stream",
     "text": [
      "C:\\Users\\SUDHANSHU\\Anaconda3\\lib\\site-packages\\ipykernel_launcher.py:1: UserWarning: The `nb_epoch` argument in `fit` has been renamed `epochs`.\n",
      "  \"\"\"Entry point for launching an IPython kernel.\n"
     ]
    },
    {
     "name": "stdout",
     "output_type": "stream",
     "text": [
      "Epoch 1/100\n",
      "4000/4000 [==============================] - 2s 565us/step - loss: 1.1302 - accuracy: 0.7190\n",
      "Epoch 2/100\n",
      "4000/4000 [==============================] - 1s 204us/step - loss: 0.3994 - accuracy: 0.8780\n",
      "Epoch 3/100\n",
      "4000/4000 [==============================] - 1s 138us/step - loss: 0.2554 - accuracy: 0.9295\n",
      "Epoch 4/100\n",
      "4000/4000 [==============================] - 1s 164us/step - loss: 0.1890 - accuracy: 0.9475\n",
      "Epoch 5/100\n",
      "4000/4000 [==============================] - 1s 247us/step - loss: 0.1487 - accuracy: 0.9625\n",
      "Epoch 6/100\n",
      "4000/4000 [==============================] - 1s 185us/step - loss: 0.1189 - accuracy: 0.96750s - loss: 0.1114 - accura\n",
      "Epoch 7/100\n",
      "4000/4000 [==============================] - 1s 166us/step - loss: 0.0943 - accuracy: 0.9755\n",
      "Epoch 8/100\n",
      "4000/4000 [==============================] - 1s 189us/step - loss: 0.0723 - accuracy: 0.9852\n",
      "Epoch 9/100\n",
      "4000/4000 [==============================] - 1s 175us/step - loss: 0.0595 - accuracy: 0.9862\n",
      "Epoch 10/100\n",
      "4000/4000 [==============================] - 1s 200us/step - loss: 0.0474 - accuracy: 0.9885\n",
      "Epoch 11/100\n",
      "4000/4000 [==============================] - 1s 177us/step - loss: 0.0338 - accuracy: 0.9940\n",
      "Epoch 12/100\n",
      "4000/4000 [==============================] - 1s 178us/step - loss: 0.0253 - accuracy: 0.9955\n",
      "Epoch 13/100\n",
      "4000/4000 [==============================] - 1s 177us/step - loss: 0.0199 - accuracy: 0.9970\n",
      "Epoch 14/100\n",
      "4000/4000 [==============================] - 1s 187us/step - loss: 0.0152 - accuracy: 0.9980\n",
      "Epoch 15/100\n",
      "4000/4000 [==============================] - 1s 188us/step - loss: 0.0137 - accuracy: 0.9985\n",
      "Epoch 16/100\n",
      "4000/4000 [==============================] - 1s 161us/step - loss: 0.0099 - accuracy: 0.9992\n",
      "Epoch 17/100\n",
      "4000/4000 [==============================] - 1s 164us/step - loss: 0.0063 - accuracy: 1.0000\n",
      "Epoch 18/100\n",
      "4000/4000 [==============================] - 1s 141us/step - loss: 0.0056 - accuracy: 0.9998\n",
      "Epoch 19/100\n",
      "4000/4000 [==============================] - 1s 168us/step - loss: 0.0042 - accuracy: 1.0000\n",
      "Epoch 20/100\n",
      "4000/4000 [==============================] - 1s 202us/step - loss: 0.0033 - accuracy: 1.0000\n",
      "Epoch 21/100\n",
      "4000/4000 [==============================] - 1s 161us/step - loss: 0.0029 - accuracy: 1.0000\n",
      "Epoch 22/100\n",
      "4000/4000 [==============================] - 1s 169us/step - loss: 0.0025 - accuracy: 1.0000\n",
      "Epoch 23/100\n",
      "4000/4000 [==============================] - 1s 150us/step - loss: 0.0020 - accuracy: 1.0000\n",
      "Epoch 24/100\n",
      "4000/4000 [==============================] - 1s 178us/step - loss: 0.0018 - accuracy: 1.0000\n",
      "Epoch 25/100\n",
      "4000/4000 [==============================] - 1s 148us/step - loss: 0.0017 - accuracy: 1.0000\n",
      "Epoch 26/100\n",
      "4000/4000 [==============================] - 1s 173us/step - loss: 0.0015 - accuracy: 1.0000\n",
      "Epoch 27/100\n",
      "4000/4000 [==============================] - 1s 150us/step - loss: 0.0013 - accuracy: 1.0000\n",
      "Epoch 28/100\n",
      "4000/4000 [==============================] - 1s 177us/step - loss: 0.0012 - accuracy: 1.0000\n",
      "Epoch 29/100\n",
      "4000/4000 [==============================] - 1s 183us/step - loss: 0.0011 - accuracy: 1.0000\n",
      "Epoch 30/100\n",
      "4000/4000 [==============================] - 1s 151us/step - loss: 9.9282e-04 - accuracy: 1.0000\n",
      "Epoch 31/100\n",
      "4000/4000 [==============================] - 1s 207us/step - loss: 9.7399e-04 - accuracy: 1.0000\n",
      "Epoch 32/100\n",
      "4000/4000 [==============================] - 1s 145us/step - loss: 8.5147e-04 - accuracy: 1.0000\n",
      "Epoch 33/100\n",
      "4000/4000 [==============================] - 1s 172us/step - loss: 7.9725e-04 - accuracy: 1.0000\n",
      "Epoch 34/100\n",
      "4000/4000 [==============================] - 1s 188us/step - loss: 7.3714e-04 - accuracy: 1.0000\n",
      "Epoch 35/100\n",
      "4000/4000 [==============================] - 1s 145us/step - loss: 6.7460e-04 - accuracy: 1.0000\n",
      "Epoch 36/100\n",
      "4000/4000 [==============================] - 1s 176us/step - loss: 6.2811e-04 - accuracy: 1.0000\n",
      "Epoch 37/100\n",
      "4000/4000 [==============================] - 1s 148us/step - loss: 5.9343e-04 - accuracy: 1.00000s - loss: 5.6011e-04 \n",
      "Epoch 38/100\n",
      "4000/4000 [==============================] - 1s 186us/step - loss: 5.5793e-04 - accuracy: 1.0000\n",
      "Epoch 39/100\n",
      "4000/4000 [==============================] - 1s 156us/step - loss: 5.1845e-04 - accuracy: 1.0000\n",
      "Epoch 40/100\n",
      "4000/4000 [==============================] - 1s 219us/step - loss: 4.9043e-04 - accuracy: 1.0000\n",
      "Epoch 41/100\n",
      "4000/4000 [==============================] - 1s 207us/step - loss: 4.6124e-04 - accuracy: 1.0000\n",
      "Epoch 42/100\n",
      "4000/4000 [==============================] - 1s 164us/step - loss: 4.3310e-04 - accuracy: 1.0000\n",
      "Epoch 43/100\n",
      "4000/4000 [==============================] - 1s 170us/step - loss: 4.0543e-04 - accuracy: 1.0000\n",
      "Epoch 44/100\n",
      "4000/4000 [==============================] - 1s 141us/step - loss: 3.8525e-04 - accuracy: 1.0000\n",
      "Epoch 45/100\n",
      "4000/4000 [==============================] - 1s 161us/step - loss: 3.7013e-04 - accuracy: 1.0000\n",
      "Epoch 46/100\n",
      "4000/4000 [==============================] - 1s 142us/step - loss: 3.5006e-04 - accuracy: 1.0000\n",
      "Epoch 47/100\n",
      "4000/4000 [==============================] - 1s 191us/step - loss: 3.2893e-04 - accuracy: 1.0000\n",
      "Epoch 48/100\n",
      "4000/4000 [==============================] - 1s 172us/step - loss: 3.1316e-04 - accuracy: 1.0000\n",
      "Epoch 49/100\n",
      "4000/4000 [==============================] - 1s 141us/step - loss: 2.9816e-04 - accuracy: 1.0000\n",
      "Epoch 50/100\n",
      "4000/4000 [==============================] - 1s 167us/step - loss: 2.8402e-04 - accuracy: 1.0000\n",
      "Epoch 51/100\n",
      "4000/4000 [==============================] - 1s 159us/step - loss: 2.7095e-04 - accuracy: 1.0000\n",
      "Epoch 52/100\n",
      "4000/4000 [==============================] - 1s 173us/step - loss: 2.5718e-04 - accuracy: 1.0000\n",
      "Epoch 53/100\n",
      "4000/4000 [==============================] - 1s 145us/step - loss: 2.4535e-04 - accuracy: 1.0000\n",
      "Epoch 54/100\n",
      "4000/4000 [==============================] - 1s 192us/step - loss: 2.3455e-04 - accuracy: 1.0000\n",
      "Epoch 55/100\n",
      "4000/4000 [==============================] - 1s 134us/step - loss: 2.2184e-04 - accuracy: 1.0000\n",
      "Epoch 56/100\n",
      "4000/4000 [==============================] - 1s 176us/step - loss: 2.1238e-04 - accuracy: 1.0000\n",
      "Epoch 57/100\n",
      "4000/4000 [==============================] - 1s 166us/step - loss: 2.0403e-04 - accuracy: 1.0000\n",
      "Epoch 58/100\n",
      "4000/4000 [==============================] - 1s 140us/step - loss: 1.9635e-04 - accuracy: 1.0000\n",
      "Epoch 59/100\n",
      "4000/4000 [==============================] - 1s 187us/step - loss: 1.8790e-04 - accuracy: 1.0000\n",
      "Epoch 60/100\n",
      "4000/4000 [==============================] - 1s 174us/step - loss: 1.7972e-04 - accuracy: 1.0000\n",
      "Epoch 61/100\n",
      "4000/4000 [==============================] - 1s 173us/step - loss: 1.7271e-04 - accuracy: 1.0000\n",
      "Epoch 62/100\n",
      "4000/4000 [==============================] - 1s 141us/step - loss: 1.6709e-04 - accuracy: 1.0000\n",
      "Epoch 63/100\n",
      "4000/4000 [==============================] - 1s 169us/step - loss: 1.5790e-04 - accuracy: 1.0000\n",
      "Epoch 64/100\n",
      "4000/4000 [==============================] - 1s 148us/step - loss: 1.5216e-04 - accuracy: 1.0000\n",
      "Epoch 65/100\n",
      "4000/4000 [==============================] - 1s 169us/step - loss: 1.4752e-04 - accuracy: 1.0000\n",
      "Epoch 66/100\n",
      "4000/4000 [==============================] - 1s 169us/step - loss: 1.4159e-04 - accuracy: 1.0000\n",
      "Epoch 67/100\n",
      "4000/4000 [==============================] - 1s 152us/step - loss: 1.3544e-04 - accuracy: 1.0000\n",
      "Epoch 68/100\n",
      "4000/4000 [==============================] - 1s 168us/step - loss: 1.3128e-04 - accuracy: 1.0000\n",
      "Epoch 69/100\n",
      "4000/4000 [==============================] - 1s 145us/step - loss: 1.2638e-04 - accuracy: 1.0000\n",
      "Epoch 70/100\n",
      "4000/4000 [==============================] - 1s 172us/step - loss: 1.2068e-04 - accuracy: 1.0000\n",
      "Epoch 71/100\n",
      "4000/4000 [==============================] - 1s 147us/step - loss: 1.1633e-04 - accuracy: 1.0000\n",
      "Epoch 72/100\n",
      "4000/4000 [==============================] - 1s 175us/step - loss: 1.1209e-04 - accuracy: 1.0000\n",
      "Epoch 73/100\n",
      "4000/4000 [==============================] - 1s 146us/step - loss: 1.0825e-04 - accuracy: 1.0000\n",
      "Epoch 74/100\n",
      "4000/4000 [==============================] - 1s 175us/step - loss: 1.0502e-04 - accuracy: 1.0000\n",
      "Epoch 75/100\n",
      "4000/4000 [==============================] - 1s 169us/step - loss: 1.0086e-04 - accuracy: 1.0000\n",
      "Epoch 76/100\n",
      "4000/4000 [==============================] - 1s 148us/step - loss: 9.7326e-05 - accuracy: 1.0000\n",
      "Epoch 77/100\n",
      "4000/4000 [==============================] - 1s 181us/step - loss: 9.3480e-05 - accuracy: 1.0000\n",
      "Epoch 78/100\n",
      "4000/4000 [==============================] - 1s 146us/step - loss: 9.0606e-05 - accuracy: 1.0000\n",
      "Epoch 79/100\n",
      "4000/4000 [==============================] - 1s 192us/step - loss: 8.7157e-05 - accuracy: 1.0000\n",
      "Epoch 80/100\n",
      "4000/4000 [==============================] - 1s 211us/step - loss: 8.5059e-05 - accuracy: 1.0000\n",
      "Epoch 81/100\n",
      "4000/4000 [==============================] - 1s 160us/step - loss: 8.1537e-05 - accuracy: 1.0000\n",
      "Epoch 82/100\n",
      "4000/4000 [==============================] - 1s 167us/step - loss: 7.8524e-05 - accuracy: 1.0000\n",
      "Epoch 83/100\n",
      "4000/4000 [==============================] - 1s 161us/step - loss: 7.6487e-05 - accuracy: 1.0000\n",
      "Epoch 84/100\n",
      "4000/4000 [==============================] - 1s 172us/step - loss: 7.3832e-05 - accuracy: 1.00000s - loss: 6.9210e-05 \n",
      "Epoch 85/100\n",
      "4000/4000 [==============================] - 1s 149us/step - loss: 7.1824e-05 - accuracy: 1.00000s - loss: 7.2951e-05 - accuracy: 1.\n",
      "Epoch 86/100\n",
      "4000/4000 [==============================] - 1s 171us/step - loss: 6.9177e-05 - accuracy: 1.00000s - loss: 5.9553e-0\n",
      "Epoch 87/100\n",
      "4000/4000 [==============================] - 1s 143us/step - loss: 6.6774e-05 - accuracy: 1.0000\n",
      "Epoch 88/100\n",
      "4000/4000 [==============================] - ETA: 0s - loss: 6.5224e-05 - accuracy: 1.00 - 1s 182us/step - loss: 6.4770e-05 - accuracy: 1.0000\n",
      "Epoch 89/100\n",
      "4000/4000 [==============================] - 1s 207us/step - loss: 6.2726e-05 - accuracy: 1.0000\n",
      "Epoch 90/100\n",
      "4000/4000 [==============================] - 1s 195us/step - loss: 6.1204e-05 - accuracy: 1.0000\n",
      "Epoch 91/100\n",
      "4000/4000 [==============================] - 1s 175us/step - loss: 5.8591e-05 - accuracy: 1.00000s - loss: 5.9060e-05 - accuracy\n",
      "Epoch 92/100\n",
      "4000/4000 [==============================] - 1s 167us/step - loss: 5.6761e-05 - accuracy: 1.0000\n",
      "Epoch 93/100\n",
      "4000/4000 [==============================] - 1s 166us/step - loss: 5.5510e-05 - accuracy: 1.0000\n",
      "Epoch 94/100\n",
      "4000/4000 [==============================] - 1s 185us/step - loss: 5.4085e-05 - accuracy: 1.0000\n",
      "Epoch 95/100\n",
      "4000/4000 [==============================] - 1s 145us/step - loss: 5.2203e-05 - accuracy: 1.0000\n",
      "Epoch 96/100\n",
      "4000/4000 [==============================] - 1s 176us/step - loss: 5.0530e-05 - accuracy: 1.0000\n",
      "Epoch 97/100\n",
      "4000/4000 [==============================] - 1s 145us/step - loss: 4.9024e-05 - accuracy: 1.0000\n",
      "Epoch 98/100\n",
      "4000/4000 [==============================] - 1s 170us/step - loss: 4.7394e-05 - accuracy: 1.0000\n",
      "Epoch 99/100\n",
      "4000/4000 [==============================] - 1s 150us/step - loss: 4.5882e-05 - accuracy: 1.0000\n",
      "Epoch 100/100\n",
      "4000/4000 [==============================] - 1s 173us/step - loss: 4.4466e-05 - accuracy: 1.0000\n"
     ]
    },
    {
     "data": {
      "text/plain": [
       "<keras.callbacks.callbacks.History at 0x1f56ae99788>"
      ]
     },
     "execution_count": 115,
     "metadata": {},
     "output_type": "execute_result"
    }
   ],
   "source": [
    "classifier.fit(x_train,y_train,nb_epoch=100,batch_size=100)"
   ]
  },
  {
   "cell_type": "markdown",
   "metadata": {},
   "source": [
    "WE ARE GETTIGETTING 100% ACCURACY ON THE TRAIN DATA."
   ]
  },
  {
   "cell_type": "markdown",
   "metadata": {},
   "source": [
    "# TEST DATA ACCURACY"
   ]
  },
  {
   "cell_type": "code",
   "execution_count": 116,
   "metadata": {},
   "outputs": [],
   "source": [
    "y_pred=classifier.predict(x_test)"
   ]
  },
  {
   "cell_type": "code",
   "execution_count": 117,
   "metadata": {},
   "outputs": [],
   "source": [
    "# HERE WE ARE CONVERTING THE BINARY INTO THE CLASS- THAT IS THE REVERCE OF WHAT WE DID USING OneHotEncoder\n",
    "\n",
    "pred=[]\n",
    "test=[]\n",
    "\n",
    "for i in range(len(y_pred)):\n",
    "    pred.append(np.argmax(y_pred[i]))\n",
    "    \n",
    "for i in range(len(y_test)):\n",
    "    test.append(np.argmax(y_test[i]))\n",
    "    \n",
    "    "
   ]
  },
  {
   "cell_type": "code",
   "execution_count": 118,
   "metadata": {},
   "outputs": [
    {
     "name": "stdout",
     "output_type": "stream",
     "text": [
      "Accuracy is: 93.7\n"
     ]
    }
   ],
   "source": [
    "from sklearn.metrics import accuracy_score\n",
    "a = accuracy_score(pred,test)\n",
    "print('Accuracy is:', a*100)"
   ]
  },
  {
   "cell_type": "markdown",
   "metadata": {},
   "source": [
    "# PREDICATION ACCURACY IS : 93.7"
   ]
  },
  {
   "cell_type": "code",
   "execution_count": 119,
   "metadata": {},
   "outputs": [
    {
     "name": "stdout",
     "output_type": "stream",
     "text": [
      "Model: \"sequential_17\"\n",
      "_________________________________________________________________\n",
      "Layer (type)                 Output Shape              Param #   \n",
      "=================================================================\n",
      "dense_60 (Dense)             (None, 500)               200500    \n",
      "_________________________________________________________________\n",
      "dense_61 (Dense)             (None, 400)               200400    \n",
      "_________________________________________________________________\n",
      "dense_62 (Dense)             (None, 10)                4010      \n",
      "=================================================================\n",
      "Total params: 404,910\n",
      "Trainable params: 404,910\n",
      "Non-trainable params: 0\n",
      "_________________________________________________________________\n"
     ]
    }
   ],
   "source": [
    "classifier.summary()"
   ]
  }
 ],
 "metadata": {
  "kernelspec": {
   "display_name": "Python 3",
   "language": "python",
   "name": "python3"
  },
  "language_info": {
   "codemirror_mode": {
    "name": "ipython",
    "version": 3
   },
   "file_extension": ".py",
   "mimetype": "text/x-python",
   "name": "python",
   "nbconvert_exporter": "python",
   "pygments_lexer": "ipython3",
   "version": "3.7.4"
  }
 },
 "nbformat": 4,
 "nbformat_minor": 2
}
